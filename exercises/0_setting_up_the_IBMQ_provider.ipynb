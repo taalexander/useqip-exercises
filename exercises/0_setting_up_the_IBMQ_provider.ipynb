{
 "cells": [
  {
   "cell_type": "markdown",
   "metadata": {},
   "source": [
    "<img src=\"../../images/qiskit-heading.gif\" alt=\"Note: In order for images to show up in this jupyter notebook you need to select File => Trusted Notebook\" width=\"500 px\" align=\"left\">"
   ]
  },
  {
   "cell_type": "markdown",
   "metadata": {},
   "source": [
    "# IBMQ Provider"
   ]
  },
  {
   "cell_type": "markdown",
   "metadata": {},
   "source": [
    "To talk to an IBM quantum computer you must first install credentials that will allow you to access the device through the *IBMQ* `Provider`. \n",
    "\n",
    "Provider's implement an opensource interface for quantum computers and provide handles to `Backend`s which allow you to submit your quantum experiments directly to the device. This means that if you had your own personal quantum computer in your lab, you too could use Qiskit and avoid reinventing the wheel.\n",
    "\n",
    "For more information, see our [opensource specification](https://arxiv.org/abs/1809.03452).\n",
    "\n",
    "First we import our IBMQ provider from Qiskit"
   ]
  },
  {
   "cell_type": "code",
   "execution_count": 1,
   "metadata": {},
   "outputs": [
    {
     "ename": "ImportError",
     "evalue": "cannot import name 'IBMQ' from 'qiskit' (/Users/talexander/anaconda3/envs/qiskit/lib/python3.7/site-packages/qiskit/__init__.py)",
     "output_type": "error",
     "traceback": [
      "\u001b[0;31m---------------------------------------------------------------------------\u001b[0m",
      "\u001b[0;31mImportError\u001b[0m                               Traceback (most recent call last)",
      "\u001b[0;32m<ipython-input-1-1410fa932fee>\u001b[0m in \u001b[0;36m<module>\u001b[0;34m\u001b[0m\n\u001b[0;32m----> 1\u001b[0;31m \u001b[0;32mfrom\u001b[0m \u001b[0mqiskit\u001b[0m \u001b[0;32mimport\u001b[0m \u001b[0mIBMQ\u001b[0m\u001b[0;34m\u001b[0m\u001b[0;34m\u001b[0m\u001b[0m\n\u001b[0m\u001b[1;32m      2\u001b[0m \u001b[0;32mfrom\u001b[0m \u001b[0mqiskit\u001b[0m\u001b[0;34m.\u001b[0m\u001b[0mtools\u001b[0m\u001b[0;34m.\u001b[0m\u001b[0mjupyter\u001b[0m \u001b[0;32mimport\u001b[0m \u001b[0;34m*\u001b[0m\u001b[0;34m\u001b[0m\u001b[0;34m\u001b[0m\u001b[0m\n",
      "\u001b[0;31mImportError\u001b[0m: cannot import name 'IBMQ' from 'qiskit' (/Users/talexander/anaconda3/envs/qiskit/lib/python3.7/site-packages/qiskit/__init__.py)"
     ]
    }
   ],
   "source": [
    "from qiskit import IBMQ\n",
    "from qiskit.tools.jupyter import *"
   ]
  },
  {
   "cell_type": "markdown",
   "metadata": {},
   "source": [
    "Next you will add the credentials provided by us and save them with the provider. The credentials are for our public quantum experience devices and consist of a secret *token* and a *url*. These will provide dedicated access to *ibmq_16_melbourne* which is a 16-qubit quantum computer."
   ]
  },
  {
   "cell_type": "code",
   "execution_count": null,
   "metadata": {},
   "outputs": [],
   "source": [
    "token = 'secret'\n",
    "url = 'https://api-qcon.quantum-computing.ibm.com/api/Hubs/ibm-q/Groups/open/Projects/main'\n",
    "\n",
    "IBMQ.save_account(token, url)\n",
    "IBMQ.load_accounts()"
   ]
  },
  {
   "cell_type": "markdown",
   "metadata": {},
   "source": [
    "Now that we have saved our credentials, we can see the devices that are available to us."
   ]
  },
  {
   "cell_type": "code",
   "execution_count": 6,
   "metadata": {},
   "outputs": [
    {
     "data": {
      "text/plain": [
       "[<IBMQBackend('ibmq_20_tokyo') from IBMQ(ibm-q-dev, system-software, internal-test)>,\n",
       " <IBMQBackend('Fluffy') from IBMQ(ibm-q-dev, system-software, internal-test)>,\n",
       " <IBMQBackend('tokyo_0') from IBMQ(ibm-q-dev, system-software, internal-test)>,\n",
       " <IBMQBackend('ibmq_poughkeepsie') from IBMQ(ibm-q-dev, system-software, internal-test)>,\n",
       " <IBMQSimulator('ibmq_qasm_simulator') from IBMQ(ibm-q-dev, system-software, internal-test)>,\n",
       " <IBMQSimulator('ibmq_qasm_simulator') from IBMQ(ibm-q, open, main)>,\n",
       " <IBMQBackend('ibmqx4') from IBMQ(ibm-q, open, main)>,\n",
       " <IBMQBackend('ibmqx2') from IBMQ(ibm-q, open, main)>,\n",
       " <IBMQBackend('ibmq_16_melbourne') from IBMQ(ibm-q, open, main)>]"
      ]
     },
     "execution_count": 6,
     "metadata": {},
     "output_type": "execute_result"
    }
   ],
   "source": [
    "IBMQ.backends()"
   ]
  },
  {
   "cell_type": "markdown",
   "metadata": {},
   "source": [
    "We have a three quantum devices and a high-performance cloud-hosted quantum simulator, for your quantum computing simulation needs.\n",
    "\n",
    "We will have dedicated access to *ibmq_16_melbourne* for today's tutorial, so we will use this device. We can easily access a handle to the backend:"
   ]
  },
  {
   "cell_type": "code",
   "execution_count": 4,
   "metadata": {},
   "outputs": [],
   "source": [
    "backend = IBMQ.get_backend('ibmq_16_melbourne')"
   ]
  },
  {
   "cell_type": "markdown",
   "metadata": {},
   "source": [
    "## Configuration"
   ]
  },
  {
   "cell_type": "markdown",
   "metadata": {},
   "source": [
    "The backend provides access to its configuration information"
   ]
  },
  {
   "cell_type": "code",
   "execution_count": 6,
   "metadata": {},
   "outputs": [],
   "source": [
    "config = backend.configuration()"
   ]
  },
  {
   "cell_type": "markdown",
   "metadata": {},
   "source": [
    "Such as "
   ]
  },
  {
   "cell_type": "code",
   "execution_count": 12,
   "metadata": {},
   "outputs": [
    {
     "data": {
      "text/plain": [
       "'ibmq_16_melbourne'"
      ]
     },
     "execution_count": 12,
     "metadata": {},
     "output_type": "execute_result"
    }
   ],
   "source": [
    "config.backend_name"
   ]
  },
  {
   "cell_type": "code",
   "execution_count": 13,
   "metadata": {},
   "outputs": [
    {
     "data": {
      "text/plain": [
       "'14 qubit device'"
      ]
     },
     "execution_count": 13,
     "metadata": {},
     "output_type": "execute_result"
    }
   ],
   "source": [
    "config.description"
   ]
  },
  {
   "cell_type": "code",
   "execution_count": 8,
   "metadata": {},
   "outputs": [
    {
     "data": {
      "text/plain": [
       "14"
      ]
     },
     "execution_count": 8,
     "metadata": {},
     "output_type": "execute_result"
    }
   ],
   "source": [
    "config.n_qubits"
   ]
  },
  {
   "cell_type": "code",
   "execution_count": 10,
   "metadata": {},
   "outputs": [
    {
     "data": {
      "text/plain": [
       "75"
      ]
     },
     "execution_count": 10,
     "metadata": {},
     "output_type": "execute_result"
    }
   ],
   "source": [
    "config.max_experiments"
   ]
  },
  {
   "cell_type": "code",
   "execution_count": 9,
   "metadata": {},
   "outputs": [
    {
     "data": {
      "text/plain": [
       "8192"
      ]
     },
     "execution_count": 9,
     "metadata": {},
     "output_type": "execute_result"
    }
   ],
   "source": [
    "config.max_shots"
   ]
  },
  {
   "cell_type": "markdown",
   "metadata": {},
   "source": [
    "The coupling map tells us which qubits are coupled together. It is directional."
   ]
  },
  {
   "cell_type": "code",
   "execution_count": 21,
   "metadata": {},
   "outputs": [
    {
     "data": {
      "text/plain": [
       "[[1, 0],\n",
       " [1, 2],\n",
       " [2, 3],\n",
       " [4, 3],\n",
       " [4, 10],\n",
       " [5, 4],\n",
       " [5, 6],\n",
       " [5, 9],\n",
       " [6, 8],\n",
       " [7, 8],\n",
       " [9, 8],\n",
       " [9, 10],\n",
       " [11, 3],\n",
       " [11, 10],\n",
       " [11, 12],\n",
       " [12, 2],\n",
       " [13, 1],\n",
       " [13, 12]]"
      ]
     },
     "execution_count": 21,
     "metadata": {},
     "output_type": "execute_result"
    }
   ],
   "source": [
    "config.coupling_map"
   ]
  },
  {
   "cell_type": "code",
   "execution_count": 11,
   "metadata": {},
   "outputs": [
    {
     "data": {
      "text/plain": [
       "['u1', 'u2', 'u3', 'cx', 'id']"
      ]
     },
     "execution_count": 11,
     "metadata": {},
     "output_type": "execute_result"
    }
   ],
   "source": [
    "config.basis_gates"
   ]
  },
  {
   "cell_type": "markdown",
   "metadata": {},
   "source": [
    "## Properties"
   ]
  },
  {
   "cell_type": "markdown",
   "metadata": {},
   "source": [
    "The backend also provides information on the device itself taken from the last calibration. Devices are periodically calibrated."
   ]
  },
  {
   "cell_type": "code",
   "execution_count": 14,
   "metadata": {},
   "outputs": [],
   "source": [
    "properties = backend.properties()"
   ]
  },
  {
   "cell_type": "markdown",
   "metadata": {},
   "source": [
    "Which has information on the quality of the qubits and gates"
   ]
  },
  {
   "cell_type": "code",
   "execution_count": 18,
   "metadata": {
    "scrolled": true
   },
   "outputs": [
    {
     "data": {
      "text/plain": [
       "[[Nduv(date=datetime.datetime(2019, 5, 31, 6, 27, 17, tzinfo=tzutc()), name='T1', unit='µs', value=63.93090824278425),\n",
       "  Nduv(date=datetime.datetime(2019, 5, 31, 6, 28, 32, tzinfo=tzutc()), name='T2', unit='µs', value=23.302962737215303),\n",
       "  Nduv(date=datetime.datetime(2019, 5, 31, 8, 37, 12, tzinfo=tzutc()), name='frequency', unit='GHz', value=5.1001793866145455),\n",
       "  Nduv(date=datetime.datetime(2019, 5, 31, 6, 26, 52, tzinfo=tzutc()), name='readout_error', unit='', value=0.03490000000000004)],\n",
       " [Nduv(date=datetime.datetime(2019, 5, 31, 6, 27, 17, tzinfo=tzutc()), name='T1', unit='µs', value=44.98756852376516),\n",
       "  Nduv(date=datetime.datetime(2019, 5, 30, 6, 26, 21, tzinfo=tzutc()), name='T2', unit='µs', value=95.92065835756483),\n",
       "  Nduv(date=datetime.datetime(2019, 5, 31, 8, 37, 12, tzinfo=tzutc()), name='frequency', unit='GHz', value=5.238554362815778),\n",
       "  Nduv(date=datetime.datetime(2019, 5, 31, 6, 26, 52, tzinfo=tzutc()), name='readout_error', unit='', value=0.11129999999999995)],\n",
       " [Nduv(date=datetime.datetime(2019, 5, 31, 6, 27, 17, tzinfo=tzutc()), name='T1', unit='µs', value=66.29598455423955),\n",
       "  Nduv(date=datetime.datetime(2019, 5, 31, 6, 30, 32, tzinfo=tzutc()), name='T2', unit='µs', value=107.51118122199728),\n",
       "  Nduv(date=datetime.datetime(2019, 5, 31, 8, 37, 12, tzinfo=tzutc()), name='frequency', unit='GHz', value=5.032906974812852),\n",
       "  Nduv(date=datetime.datetime(2019, 5, 31, 6, 26, 52, tzinfo=tzutc()), name='readout_error', unit='', value=0.04200000000000004)],\n",
       " [Nduv(date=datetime.datetime(2019, 5, 31, 6, 27, 17, tzinfo=tzutc()), name='T1', unit='µs', value=89.9709350633719),\n",
       "  Nduv(date=datetime.datetime(2019, 5, 30, 6, 28, 21, tzinfo=tzutc()), name='T2', unit='µs', value=55.086068914353866),\n",
       "  Nduv(date=datetime.datetime(2019, 5, 31, 8, 37, 12, tzinfo=tzutc()), name='frequency', unit='GHz', value=4.896168251338328),\n",
       "  Nduv(date=datetime.datetime(2019, 5, 31, 6, 26, 52, tzinfo=tzutc()), name='readout_error', unit='', value=0.3016)],\n",
       " [Nduv(date=datetime.datetime(2019, 5, 31, 6, 27, 17, tzinfo=tzutc()), name='T1', unit='µs', value=63.94962196997655),\n",
       "  Nduv(date=datetime.datetime(2019, 5, 31, 6, 28, 32, tzinfo=tzutc()), name='T2', unit='µs', value=35.855436179574255),\n",
       "  Nduv(date=datetime.datetime(2019, 5, 31, 8, 37, 12, tzinfo=tzutc()), name='frequency', unit='GHz', value=5.026448892744275),\n",
       "  Nduv(date=datetime.datetime(2019, 5, 31, 6, 26, 52, tzinfo=tzutc()), name='readout_error', unit='', value=0.05820000000000003)],\n",
       " [Nduv(date=datetime.datetime(2019, 5, 31, 6, 27, 17, tzinfo=tzutc()), name='T1', unit='µs', value=24.53360973637564),\n",
       "  Nduv(date=datetime.datetime(2019, 5, 31, 6, 29, 32, tzinfo=tzutc()), name='T2', unit='µs', value=49.62974939581028),\n",
       "  Nduv(date=datetime.datetime(2019, 5, 31, 8, 37, 12, tzinfo=tzutc()), name='frequency', unit='GHz', value=5.06731463181464),\n",
       "  Nduv(date=datetime.datetime(2019, 5, 31, 6, 26, 52, tzinfo=tzutc()), name='readout_error', unit='', value=0.04749999999999999)],\n",
       " [Nduv(date=datetime.datetime(2019, 5, 31, 6, 27, 17, tzinfo=tzutc()), name='T1', unit='µs', value=64.81439195389362),\n",
       "  Nduv(date=datetime.datetime(2019, 5, 31, 6, 30, 32, tzinfo=tzutc()), name='T2', unit='µs', value=59.99141035469934),\n",
       "  Nduv(date=datetime.datetime(2019, 5, 31, 8, 37, 12, tzinfo=tzutc()), name='frequency', unit='GHz', value=4.923865417151826),\n",
       "  Nduv(date=datetime.datetime(2019, 5, 31, 6, 26, 52, tzinfo=tzutc()), name='readout_error', unit='', value=0.0616000000000001)],\n",
       " [Nduv(date=datetime.datetime(2019, 5, 31, 6, 27, 17, tzinfo=tzutc()), name='T1', unit='µs', value=49.024271778156645),\n",
       "  Nduv(date=datetime.datetime(2019, 5, 31, 6, 31, 32, tzinfo=tzutc()), name='T2', unit='µs', value=101.97462551918092),\n",
       "  Nduv(date=datetime.datetime(2019, 5, 31, 8, 37, 12, tzinfo=tzutc()), name='frequency', unit='GHz', value=4.974482493125088),\n",
       "  Nduv(date=datetime.datetime(2019, 5, 31, 6, 26, 52, tzinfo=tzutc()), name='readout_error', unit='', value=0.2774)],\n",
       " [Nduv(date=datetime.datetime(2019, 5, 31, 6, 27, 17, tzinfo=tzutc()), name='T1', unit='µs', value=68.88404377267464),\n",
       "  Nduv(date=datetime.datetime(2019, 5, 31, 6, 28, 32, tzinfo=tzutc()), name='T2', unit='µs', value=97.89700689516631),\n",
       "  Nduv(date=datetime.datetime(2019, 5, 31, 8, 37, 12, tzinfo=tzutc()), name='frequency', unit='GHz', value=4.737785667735377),\n",
       "  Nduv(date=datetime.datetime(2019, 5, 31, 6, 26, 52, tzinfo=tzutc()), name='readout_error', unit='', value=0.040999999999999925)],\n",
       " [Nduv(date=datetime.datetime(2019, 5, 31, 6, 27, 17, tzinfo=tzutc()), name='T1', unit='µs', value=35.7008603921117),\n",
       "  Nduv(date=datetime.datetime(2019, 5, 31, 6, 30, 32, tzinfo=tzutc()), name='T2', unit='µs', value=66.01099380821636),\n",
       "  Nduv(date=datetime.datetime(2019, 5, 31, 8, 37, 12, tzinfo=tzutc()), name='frequency', unit='GHz', value=4.963442683198033),\n",
       "  Nduv(date=datetime.datetime(2019, 5, 31, 6, 26, 52, tzinfo=tzutc()), name='readout_error', unit='', value=0.030299999999999994)],\n",
       " [Nduv(date=datetime.datetime(2019, 5, 31, 6, 27, 17, tzinfo=tzutc()), name='T1', unit='µs', value=59.12237519531224),\n",
       "  Nduv(date=datetime.datetime(2019, 5, 31, 6, 29, 32, tzinfo=tzutc()), name='T2', unit='µs', value=63.734266959761236),\n",
       "  Nduv(date=datetime.datetime(2019, 5, 31, 8, 37, 12, tzinfo=tzutc()), name='frequency', unit='GHz', value=4.945114173113616),\n",
       "  Nduv(date=datetime.datetime(2019, 5, 31, 6, 26, 52, tzinfo=tzutc()), name='readout_error', unit='', value=0.05800000000000005)],\n",
       " [Nduv(date=datetime.datetime(2019, 5, 31, 6, 27, 17, tzinfo=tzutc()), name='T1', unit='µs', value=61.48111918206874),\n",
       "  Nduv(date=datetime.datetime(2019, 5, 6, 6, 33, 40, tzinfo=tzutc()), name='T2', unit='µs', value=102.03409167196693),\n",
       "  Nduv(date=datetime.datetime(2019, 5, 31, 8, 37, 12, tzinfo=tzutc()), name='frequency', unit='GHz', value=4.996814207124983),\n",
       "  Nduv(date=datetime.datetime(2019, 5, 31, 6, 26, 52, tzinfo=tzutc()), name='readout_error', unit='', value=0.33410000000000006)],\n",
       " [Nduv(date=datetime.datetime(2019, 5, 31, 6, 27, 17, tzinfo=tzutc()), name='T1', unit='µs', value=75.87290722840964),\n",
       "  Nduv(date=datetime.datetime(2019, 5, 31, 6, 29, 32, tzinfo=tzutc()), name='T2', unit='µs', value=154.6042024205132),\n",
       "  Nduv(date=datetime.datetime(2019, 5, 31, 8, 37, 12, tzinfo=tzutc()), name='frequency', unit='GHz', value=4.760058901189652),\n",
       "  Nduv(date=datetime.datetime(2019, 5, 31, 6, 26, 52, tzinfo=tzutc()), name='readout_error', unit='', value=0.09550000000000003)],\n",
       " [Nduv(date=datetime.datetime(2019, 5, 31, 6, 27, 17, tzinfo=tzutc()), name='T1', unit='µs', value=29.49661787865529),\n",
       "  Nduv(date=datetime.datetime(2019, 5, 31, 6, 28, 32, tzinfo=tzutc()), name='T2', unit='µs', value=53.447317143870656),\n",
       "  Nduv(date=datetime.datetime(2019, 5, 31, 8, 37, 12, tzinfo=tzutc()), name='frequency', unit='GHz', value=4.968467490738086),\n",
       "  Nduv(date=datetime.datetime(2019, 5, 31, 6, 26, 52, tzinfo=tzutc()), name='readout_error', unit='', value=0.03749999999999998)]]"
      ]
     },
     "execution_count": 18,
     "metadata": {},
     "output_type": "execute_result"
    }
   ],
   "source": [
    "properties.qubits"
   ]
  },
  {
   "cell_type": "code",
   "execution_count": 19,
   "metadata": {},
   "outputs": [
    {
     "data": {
      "text/plain": [
       "[Gate(gate='u1', parameters=[Nduv(date=datetime.datetime(2019, 5, 31, 6, 32, 28, tzinfo=tzutc()), name='gate_error', unit='', value=0.0)], qubits=[0]),\n",
       " Gate(gate='u2', parameters=[Nduv(date=datetime.datetime(2019, 5, 31, 6, 32, 28, tzinfo=tzutc()), name='gate_error', unit='', value=0.0018142187181486302)], qubits=[0]),\n",
       " Gate(gate='u3', parameters=[Nduv(date=datetime.datetime(2019, 5, 31, 6, 32, 28, tzinfo=tzutc()), name='gate_error', unit='', value=0.0036284374362972605)], qubits=[0]),\n",
       " Gate(gate='u1', parameters=[Nduv(date=datetime.datetime(2019, 5, 31, 6, 32, 28, tzinfo=tzutc()), name='gate_error', unit='', value=0.0)], qubits=[1]),\n",
       " Gate(gate='u2', parameters=[Nduv(date=datetime.datetime(2019, 5, 31, 6, 32, 28, tzinfo=tzutc()), name='gate_error', unit='', value=0.010110174663179261)], qubits=[1]),\n",
       " Gate(gate='u3', parameters=[Nduv(date=datetime.datetime(2019, 5, 31, 6, 32, 28, tzinfo=tzutc()), name='gate_error', unit='', value=0.020220349326358522)], qubits=[1]),\n",
       " Gate(gate='u1', parameters=[Nduv(date=datetime.datetime(2019, 5, 31, 6, 32, 28, tzinfo=tzutc()), name='gate_error', unit='', value=0.0)], qubits=[2]),\n",
       " Gate(gate='u2', parameters=[Nduv(date=datetime.datetime(2019, 5, 31, 6, 32, 28, tzinfo=tzutc()), name='gate_error', unit='', value=0.004785356405822061)], qubits=[2]),\n",
       " Gate(gate='u3', parameters=[Nduv(date=datetime.datetime(2019, 5, 31, 6, 32, 28, tzinfo=tzutc()), name='gate_error', unit='', value=0.009570712811644122)], qubits=[2]),\n",
       " Gate(gate='u1', parameters=[Nduv(date=datetime.datetime(2019, 5, 31, 6, 32, 28, tzinfo=tzutc()), name='gate_error', unit='', value=0.0)], qubits=[3]),\n",
       " Gate(gate='u2', parameters=[Nduv(date=datetime.datetime(2019, 5, 31, 6, 32, 28, tzinfo=tzutc()), name='gate_error', unit='', value=0.0012401595788399389)], qubits=[3]),\n",
       " Gate(gate='u3', parameters=[Nduv(date=datetime.datetime(2019, 5, 31, 6, 32, 28, tzinfo=tzutc()), name='gate_error', unit='', value=0.0024803191576798778)], qubits=[3]),\n",
       " Gate(gate='u1', parameters=[Nduv(date=datetime.datetime(2019, 5, 31, 6, 32, 28, tzinfo=tzutc()), name='gate_error', unit='', value=0.0)], qubits=[4]),\n",
       " Gate(gate='u2', parameters=[Nduv(date=datetime.datetime(2019, 5, 31, 6, 32, 28, tzinfo=tzutc()), name='gate_error', unit='', value=0.0016944300034256732)], qubits=[4]),\n",
       " Gate(gate='u3', parameters=[Nduv(date=datetime.datetime(2019, 5, 31, 6, 32, 28, tzinfo=tzutc()), name='gate_error', unit='', value=0.0033888600068513464)], qubits=[4]),\n",
       " Gate(gate='u1', parameters=[Nduv(date=datetime.datetime(2019, 5, 31, 6, 32, 28, tzinfo=tzutc()), name='gate_error', unit='', value=0.0)], qubits=[5]),\n",
       " Gate(gate='u2', parameters=[Nduv(date=datetime.datetime(2019, 5, 31, 6, 32, 28, tzinfo=tzutc()), name='gate_error', unit='', value=0.002453869629653882)], qubits=[5]),\n",
       " Gate(gate='u3', parameters=[Nduv(date=datetime.datetime(2019, 5, 31, 6, 32, 28, tzinfo=tzutc()), name='gate_error', unit='', value=0.004907739259307764)], qubits=[5]),\n",
       " Gate(gate='u1', parameters=[Nduv(date=datetime.datetime(2019, 5, 31, 6, 32, 28, tzinfo=tzutc()), name='gate_error', unit='', value=0.0)], qubits=[6]),\n",
       " Gate(gate='u2', parameters=[Nduv(date=datetime.datetime(2019, 5, 31, 6, 32, 28, tzinfo=tzutc()), name='gate_error', unit='', value=0.0015257940548719096)], qubits=[6]),\n",
       " Gate(gate='u3', parameters=[Nduv(date=datetime.datetime(2019, 5, 31, 6, 32, 28, tzinfo=tzutc()), name='gate_error', unit='', value=0.003051588109743819)], qubits=[6]),\n",
       " Gate(gate='u1', parameters=[Nduv(date=datetime.datetime(2019, 5, 31, 6, 32, 28, tzinfo=tzutc()), name='gate_error', unit='', value=0.0)], qubits=[7]),\n",
       " Gate(gate='u2', parameters=[Nduv(date=datetime.datetime(2019, 5, 31, 6, 32, 28, tzinfo=tzutc()), name='gate_error', unit='', value=0.0012147362784330484)], qubits=[7]),\n",
       " Gate(gate='u3', parameters=[Nduv(date=datetime.datetime(2019, 5, 31, 6, 32, 28, tzinfo=tzutc()), name='gate_error', unit='', value=0.002429472556866097)], qubits=[7]),\n",
       " Gate(gate='u1', parameters=[Nduv(date=datetime.datetime(2019, 5, 31, 6, 32, 28, tzinfo=tzutc()), name='gate_error', unit='', value=0.0)], qubits=[8]),\n",
       " Gate(gate='u2', parameters=[Nduv(date=datetime.datetime(2019, 5, 31, 6, 32, 28, tzinfo=tzutc()), name='gate_error', unit='', value=0.0018847823834129973)], qubits=[8]),\n",
       " Gate(gate='u3', parameters=[Nduv(date=datetime.datetime(2019, 5, 31, 6, 32, 28, tzinfo=tzutc()), name='gate_error', unit='', value=0.0037695647668259946)], qubits=[8]),\n",
       " Gate(gate='u1', parameters=[Nduv(date=datetime.datetime(2019, 5, 31, 6, 32, 28, tzinfo=tzutc()), name='gate_error', unit='', value=0.0)], qubits=[9]),\n",
       " Gate(gate='u2', parameters=[Nduv(date=datetime.datetime(2019, 5, 31, 6, 32, 28, tzinfo=tzutc()), name='gate_error', unit='', value=0.00311867640113922)], qubits=[9]),\n",
       " Gate(gate='u3', parameters=[Nduv(date=datetime.datetime(2019, 5, 31, 6, 32, 28, tzinfo=tzutc()), name='gate_error', unit='', value=0.00623735280227844)], qubits=[9]),\n",
       " Gate(gate='u1', parameters=[Nduv(date=datetime.datetime(2019, 5, 31, 6, 32, 28, tzinfo=tzutc()), name='gate_error', unit='', value=0.0)], qubits=[10]),\n",
       " Gate(gate='u2', parameters=[Nduv(date=datetime.datetime(2019, 5, 31, 6, 32, 28, tzinfo=tzutc()), name='gate_error', unit='', value=0.0018709370102535927)], qubits=[10]),\n",
       " Gate(gate='u3', parameters=[Nduv(date=datetime.datetime(2019, 5, 31, 6, 32, 28, tzinfo=tzutc()), name='gate_error', unit='', value=0.0037418740205071854)], qubits=[10]),\n",
       " Gate(gate='u1', parameters=[Nduv(date=datetime.datetime(2019, 5, 31, 6, 32, 28, tzinfo=tzutc()), name='gate_error', unit='', value=0.0)], qubits=[11]),\n",
       " Gate(gate='u2', parameters=[Nduv(date=datetime.datetime(2019, 5, 31, 6, 32, 28, tzinfo=tzutc()), name='gate_error', unit='', value=0.012466409676531676)], qubits=[11]),\n",
       " Gate(gate='u3', parameters=[Nduv(date=datetime.datetime(2019, 5, 31, 6, 32, 28, tzinfo=tzutc()), name='gate_error', unit='', value=0.02493281935306335)], qubits=[11]),\n",
       " Gate(gate='u1', parameters=[Nduv(date=datetime.datetime(2019, 5, 31, 6, 32, 28, tzinfo=tzutc()), name='gate_error', unit='', value=0.0)], qubits=[12]),\n",
       " Gate(gate='u2', parameters=[Nduv(date=datetime.datetime(2019, 5, 31, 6, 32, 28, tzinfo=tzutc()), name='gate_error', unit='', value=0.00407503751271171)], qubits=[12]),\n",
       " Gate(gate='u3', parameters=[Nduv(date=datetime.datetime(2019, 5, 31, 6, 32, 28, tzinfo=tzutc()), name='gate_error', unit='', value=0.00815007502542342)], qubits=[12]),\n",
       " Gate(gate='u1', parameters=[Nduv(date=datetime.datetime(2019, 5, 31, 6, 32, 28, tzinfo=tzutc()), name='gate_error', unit='', value=0.0)], qubits=[13]),\n",
       " Gate(gate='u2', parameters=[Nduv(date=datetime.datetime(2019, 5, 31, 6, 32, 28, tzinfo=tzutc()), name='gate_error', unit='', value=0.005306067229670808)], qubits=[13]),\n",
       " Gate(gate='u3', parameters=[Nduv(date=datetime.datetime(2019, 5, 31, 6, 32, 28, tzinfo=tzutc()), name='gate_error', unit='', value=0.010612134459341616)], qubits=[13]),\n",
       " Gate(gate='cx', name='CX1_0', parameters=[Nduv(date=datetime.datetime(2019, 5, 31, 7, 36, 44, tzinfo=tzutc()), name='gate_error', unit='', value=0.05003213087505107)], qubits=[1, 0]),\n",
       " Gate(gate='cx', name='CX1_2', parameters=[Nduv(date=datetime.datetime(2019, 5, 31, 8, 37, 12, tzinfo=tzutc()), name='gate_error', unit='', value=0.05343240052755899)], qubits=[1, 2]),\n",
       " Gate(gate='cx', name='CX2_3', parameters=[Nduv(date=datetime.datetime(2019, 5, 31, 7, 40, 1, tzinfo=tzutc()), name='gate_error', unit='', value=0.043285002282159535)], qubits=[2, 3]),\n",
       " Gate(gate='cx', name='CX4_3', parameters=[Nduv(date=datetime.datetime(2019, 5, 31, 7, 43, 19, tzinfo=tzutc()), name='gate_error', unit='', value=0.03746033121499934)], qubits=[4, 3]),\n",
       " Gate(gate='cx', name='CX4_10', parameters=[Nduv(date=datetime.datetime(2019, 5, 31, 7, 46, 38, tzinfo=tzutc()), name='gate_error', unit='', value=0.042799382673353675)], qubits=[4, 10]),\n",
       " Gate(gate='cx', name='CX5_4', parameters=[Nduv(date=datetime.datetime(2019, 5, 31, 7, 49, 55, tzinfo=tzutc()), name='gate_error', unit='', value=0.04945347922942023)], qubits=[5, 4]),\n",
       " Gate(gate='cx', name='CX5_6', parameters=[Nduv(date=datetime.datetime(2019, 5, 31, 7, 53, 25, tzinfo=tzutc()), name='gate_error', unit='', value=0.06475901289773506)], qubits=[5, 6]),\n",
       " Gate(gate='cx', name='CX5_9', parameters=[Nduv(date=datetime.datetime(2019, 5, 31, 7, 57, 18, tzinfo=tzutc()), name='gate_error', unit='', value=0.058361690187377274)], qubits=[5, 9]),\n",
       " Gate(gate='cx', name='CX6_8', parameters=[Nduv(date=datetime.datetime(2019, 5, 31, 8, 0, 50, tzinfo=tzutc()), name='gate_error', unit='', value=0.06085873043056925)], qubits=[6, 8]),\n",
       " Gate(gate='cx', name='CX7_8', parameters=[Nduv(date=datetime.datetime(2019, 5, 31, 8, 4, 14, tzinfo=tzutc()), name='gate_error', unit='', value=0.03530907211005421)], qubits=[7, 8]),\n",
       " Gate(gate='cx', name='CX9_8', parameters=[Nduv(date=datetime.datetime(2019, 5, 30, 8, 2, 30, tzinfo=tzutc()), name='gate_error', unit='', value=0.034022988614928695)], qubits=[9, 8]),\n",
       " Gate(gate='cx', name='CX9_10', parameters=[Nduv(date=datetime.datetime(2019, 5, 31, 8, 11, 28, tzinfo=tzutc()), name='gate_error', unit='', value=0.05256021706372674)], qubits=[9, 10]),\n",
       " Gate(gate='cx', name='CX11_3', parameters=[Nduv(date=datetime.datetime(2019, 5, 6, 8, 16, 19, tzinfo=tzutc()), name='gate_error', unit='', value=0.03873956484399349)], qubits=[11, 3]),\n",
       " Gate(gate='cx', name='CX11_10', parameters=[Nduv(date=datetime.datetime(2019, 5, 6, 8, 9, 49, tzinfo=tzutc()), name='gate_error', unit='', value=0.08015693590014958)], qubits=[11, 10]),\n",
       " Gate(gate='cx', name='CX11_12', parameters=[Nduv(date=datetime.datetime(2019, 5, 6, 8, 13, 6, tzinfo=tzutc()), name='gate_error', unit='', value=0.05520367311779159)], qubits=[11, 12]),\n",
       " Gate(gate='cx', name='CX12_2', parameters=[Nduv(date=datetime.datetime(2019, 5, 31, 8, 24, 40, tzinfo=tzutc()), name='gate_error', unit='', value=0.06319094651206109)], qubits=[12, 2]),\n",
       " Gate(gate='cx', name='CX13_1', parameters=[Nduv(date=datetime.datetime(2019, 5, 31, 8, 29, 17, tzinfo=tzutc()), name='gate_error', unit='', value=0.11336382543996197)], qubits=[13, 1]),\n",
       " Gate(gate='cx', name='CX13_12', parameters=[Nduv(date=datetime.datetime(2019, 5, 31, 8, 33, 19, tzinfo=tzutc()), name='gate_error', unit='', value=0.033435331163206766)], qubits=[13, 12])]"
      ]
     },
     "execution_count": 19,
     "metadata": {},
     "output_type": "execute_result"
    }
   ],
   "source": [
    "properties.gates"
   ]
  },
  {
   "cell_type": "markdown",
   "metadata": {},
   "source": [
    "We provide builtin tools to better visualize this information. See this [tutorial for more information](https://github.com/Qiskit/qiskit-tutorials/blob/master/qiskit/jupyter/jupyter_backend_tools.ipynb)."
   ]
  },
  {
   "cell_type": "code",
   "execution_count": 26,
   "metadata": {
    "scrolled": true
   },
   "outputs": [
    {
     "data": {
      "application/vnd.jupyter.widget-view+json": {
       "model_id": "6f20e407b2734623a57b27ddaaef6830",
       "version_major": 2,
       "version_minor": 0
      },
      "text/plain": [
       "VBox(children=(HTML(value=\"<h1 style='color:#ffffff;background-color:#000000;padding-top: 1%;padding-bottom: 1…"
      ]
     },
     "metadata": {},
     "output_type": "display_data"
    }
   ],
   "source": [
    "%qiskit_backend_monitor backend"
   ]
  },
  {
   "cell_type": "markdown",
   "metadata": {
    "solution": "hidden",
    "solution_first": true
   },
   "source": [
    "<span class=\"badge badge-primary\">Exercise 0.0</span> What information do you think is most relevant to describing the performance of a quantum computer?"
   ]
  },
  {
   "cell_type": "markdown",
   "metadata": {
    "solution": "hidden"
   },
   "source": [
    "This is a very nuanced question and much research is being performed on this topic. Some of the most basic properties are \n",
    "- T1: How long the qubit takes to go from its excited to ground state on average\n",
    "- T2: How long it takes for a superposition state to decay to fully mixed density matrix.\n",
    "- gate fidelity: How good the single and two qubit gates are.\n",
    "- gate time: How long do these gates take.\n",
    "- number of qubits: How many qubits do we have access too.\n",
    "- qubit coupling: How many qubits can talk to one another.\n"
   ]
  }
 ],
 "metadata": {
  "kernelspec": {
   "display_name": "Python 3",
   "language": "python",
   "name": "python3"
  }
 },
 "nbformat": 4,
 "nbformat_minor": 2
}
