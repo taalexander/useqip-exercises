{
 "cells": [
  {
   "cell_type": "markdown",
   "metadata": {},
   "source": [
    "<img src=\"../../images/qiskit-heading.gif\" alt=\"Note: In order for images to show up in this jupyter notebook you need to select File => Trusted Notebook\" width=\"500 px\" align=\"left\">"
   ]
  },
  {
   "cell_type": "markdown",
   "metadata": {},
   "source": [
    "# Building and Running Quantum Circuits\n",
    "\n",
    "The `QuantumCircuit`, `QuantumRegister`, and `ClassicalRegister` are the main objects for Qiskit Terra. Most users will be able to do all they want with these objects. "
   ]
  },
  {
   "cell_type": "code",
   "execution_count": 44,
   "metadata": {},
   "outputs": [],
   "source": [
    "import numpy as np\n",
    "from qiskit import QuantumCircuit, ClassicalRegister, QuantumRegister\n",
    "from qiskit import BasicAer, Aer, IBMQ, execute\n",
    "from qiskit.visualization import plot_histogram"
   ]
  },
  {
   "cell_type": "markdown",
   "metadata": {},
   "source": [
    "## Quantum and Classical Registers\n",
    "\n",
    "Quantum and Classical Registers are declared using the following:"
   ]
  },
  {
   "cell_type": "code",
   "execution_count": 2,
   "metadata": {},
   "outputs": [],
   "source": [
    "q0 = QuantumRegister(2, 'q0')\n",
    "c0 = ClassicalRegister(2, 'c0')\n",
    "q1 = QuantumRegister(2, 'q1')\n",
    "c1 = ClassicalRegister(2, 'c1')\n",
    "q_test = QuantumRegister(2, 'q0')"
   ]
  },
  {
   "cell_type": "markdown",
   "metadata": {},
   "source": [
    "The name is optional. If not given, Qiskit will name it $qi$, where $i$ is an interger which will count from 0. The name and size can be returned using the following:"
   ]
  },
  {
   "cell_type": "code",
   "execution_count": 3,
   "metadata": {},
   "outputs": [
    {
     "name": "stdout",
     "output_type": "stream",
     "text": [
      "q0\n",
      "2\n"
     ]
    }
   ],
   "source": [
    "print(q0.name)\n",
    "print(q0.size)"
   ]
  },
  {
   "cell_type": "markdown",
   "metadata": {},
   "source": [
    "You can test if the registers are the same or different. "
   ]
  },
  {
   "cell_type": "code",
   "execution_count": 4,
   "metadata": {},
   "outputs": [
    {
     "data": {
      "text/plain": [
       "True"
      ]
     },
     "execution_count": 4,
     "metadata": {},
     "output_type": "execute_result"
    }
   ],
   "source": [
    "q0==q0"
   ]
  },
  {
   "cell_type": "code",
   "execution_count": 5,
   "metadata": {},
   "outputs": [
    {
     "data": {
      "text/plain": [
       "True"
      ]
     },
     "execution_count": 5,
     "metadata": {},
     "output_type": "execute_result"
    }
   ],
   "source": [
    "q0==q_test"
   ]
  },
  {
   "cell_type": "code",
   "execution_count": 6,
   "metadata": {},
   "outputs": [
    {
     "data": {
      "text/plain": [
       "False"
      ]
     },
     "execution_count": 6,
     "metadata": {},
     "output_type": "execute_result"
    }
   ],
   "source": [
    "q0==q1"
   ]
  },
  {
   "cell_type": "markdown",
   "metadata": {},
   "source": [
    "## Quantum Circuits\n",
    "\n",
    "Quantum Circuits are made using registers, which are created either when initiated or by using the `add_register` command. "
   ]
  },
  {
   "cell_type": "code",
   "execution_count": 7,
   "metadata": {},
   "outputs": [
    {
     "data": {
      "text/html": [
       "<pre style=\"word-wrap: normal;white-space: pre;line-height: 15px;\">              \n",
       "q0_0: |0>─────\n",
       "         ┌───┐\n",
       "q0_1: |0>┤ X ├\n",
       "         ├───┤\n",
       "q1_0: |0>┤ X ├\n",
       "         └───┘\n",
       "q1_1: |0>─────\n",
       "              </pre>"
      ],
      "text/plain": [
       "<qiskit.visualization.text.TextDrawing at 0x12e06b080>"
      ]
     },
     "execution_count": 7,
     "metadata": {},
     "output_type": "execute_result"
    }
   ],
   "source": [
    "circ = QuantumCircuit(q0, q1)\n",
    "circ.x(q0[1])\n",
    "circ.x(q1[0])\n",
    "circ.draw()"
   ]
  },
  {
   "cell_type": "markdown",
   "metadata": {},
   "source": [
    "is the same as "
   ]
  },
  {
   "cell_type": "code",
   "execution_count": 8,
   "metadata": {},
   "outputs": [
    {
     "data": {
      "text/html": [
       "<pre style=\"word-wrap: normal;white-space: pre;line-height: 15px;\">              \n",
       "q0_0: |0>─────\n",
       "         ┌───┐\n",
       "q0_1: |0>┤ X ├\n",
       "         ├───┤\n",
       "q1_0: |0>┤ X ├\n",
       "         └───┘\n",
       "q1_1: |0>─────\n",
       "              </pre>"
      ],
      "text/plain": [
       "<qiskit.visualization.text.TextDrawing at 0x12e05dc50>"
      ]
     },
     "execution_count": 8,
     "metadata": {},
     "output_type": "execute_result"
    }
   ],
   "source": [
    "circ2 = QuantumCircuit()\n",
    "circ2.add_register(q0)\n",
    "circ2.add_register(q1)\n",
    "circ2.x(q0[1])\n",
    "circ2.x(q1[0])\n",
    "circ2.draw()"
   ]
  },
  {
   "cell_type": "markdown",
   "metadata": {
    "solution": "hidden",
    "solution_first": true
   },
   "source": [
    "<span class=\"badge badge-primary\">Exercise 1.0</span> Try using tab autocomplete on a `QuantumCircuit` instance such as `circ` to see the available gates and operations on a quantum circuit."
   ]
  },
  {
   "cell_type": "code",
   "execution_count": 85,
   "metadata": {
    "solution": "hidden"
   },
   "outputs": [
    {
     "name": "stdout",
     "output_type": "stream",
     "text": [
      "['add_register', 'append', 'barrier', 'bind_parameters', 'ccx', 'ch', 'clbits', 'cls_instances', 'cls_prefix', 'combine', 'copy', 'count_ops', 'cregs', 'crz', 'cswap', 'cu1', 'cu3', 'cx', 'cx_base', 'cy', 'cz', 'data', 'decompose', 'depth', 'draw', 'extend', 'extension_lib', 'from_qasm_file', 'from_qasm_str', 'h', 'has_register', 'header', 'iden', 'initialize', 'instances', 'inverse', 'measure', 'mirror', 'name', 'num_connected_components', 'num_tensor_factors', 'num_unitary_factors', 'parameters', 'prefix', 'qasm', 'qregs', 'qubits', 'reset', 'rx', 'ry', 'rz', 'rzz', 's', 'sdg', 'size', 'swap', 't', 'tdg', 'to_instruction', 'u0', 'u1', 'u2', 'u3', 'u_base', 'unitary', 'width', 'x', 'y', 'z']\n"
     ]
    }
   ],
   "source": [
    "print(list(attr for attr in dir(circ) if not attr.startswith('_')))"
   ]
  },
  {
   "cell_type": "markdown",
   "metadata": {},
   "source": [
    "<div class=\"alert alert-block alert-info\">\n",
    "<b>Note:</b> The registers are listed in the order they are initiated or added (**not** the tensor product for quantum registers).\n",
    "</div>"
   ]
  },
  {
   "cell_type": "code",
   "execution_count": 9,
   "metadata": {},
   "outputs": [
    {
     "data": {
      "text/html": [
       "<pre style=\"word-wrap: normal;white-space: pre;line-height: 15px;\">              \n",
       "q0_0: |0>─────\n",
       "         ┌───┐\n",
       "q0_1: |0>┤ X ├\n",
       "         ├───┤\n",
       "q1_0: |0>┤ X ├\n",
       "         └───┘\n",
       "q1_1: |0>─────\n",
       "              \n",
       "q3_0: |0>─────\n",
       "              \n",
       "q3_1: |0>─────\n",
       "              </pre>"
      ],
      "text/plain": [
       "<qiskit.visualization.text.TextDrawing at 0x12ef0eb38>"
      ]
     },
     "execution_count": 9,
     "metadata": {},
     "output_type": "execute_result"
    }
   ],
   "source": [
    "from copy import deepcopy\n",
    "\n",
    "q3 = QuantumRegister(2, 'q3')\n",
    "circ3 = deepcopy(circ)\n",
    "circ3.add_register(q3)\n",
    "circ3.draw()"
   ]
  },
  {
   "cell_type": "markdown",
   "metadata": {},
   "source": [
    "<div class=\"alert alert-block alert-info\">\n",
    "<b>Note:</b> The circuit drawer has the last register added at the bottom. If we add a new register it will add it to the bottom of the circuit. \n",
    "</div>"
   ]
  },
  {
   "cell_type": "markdown",
   "metadata": {},
   "source": [
    "### Extending a circuit\n",
    "\n",
    "In many situations you may have two circuits that you want to concatenate to form a new circuit. This is very useful when one circuit has no measurements, and the final circuit represents a measurement.  "
   ]
  },
  {
   "cell_type": "code",
   "execution_count": 10,
   "metadata": {},
   "outputs": [
    {
     "data": {
      "text/html": [
       "<pre style=\"word-wrap: normal;white-space: pre;line-height: 15px;\">         ┌─┐              \n",
       "q0_0: |0>┤M├──────────────\n",
       "         └╥┘   ┌───┐┌─┐   \n",
       "q0_1: |0>─╫────┤ X ├┤M├───\n",
       "          ║    ├───┤└╥┘┌─┐\n",
       "q1_0: |0>─╫────┤ X ├─╫─┤M├\n",
       "          ║ ┌─┐└───┘ ║ └╥┘\n",
       "q1_1: |0>─╫─┤M├──────╫──╫─\n",
       "          ║ └╥┘      ║  ║ \n",
       " c0_0: 0 ═╩══╬═══════╬══╬═\n",
       "             ║       ║  ║ \n",
       " c0_1: 0 ════╬═══════╩══╬═\n",
       "             ║          ║ \n",
       " c1_0: 0 ════╬══════════╩═\n",
       "             ║            \n",
       " c1_1: 0 ════╩════════════\n",
       "                          </pre>"
      ],
      "text/plain": [
       "<qiskit.visualization.text.TextDrawing at 0x12d66bac8>"
      ]
     },
     "execution_count": 10,
     "metadata": {},
     "output_type": "execute_result"
    }
   ],
   "source": [
    "meas = QuantumCircuit(q0, q1, c0, c1)\n",
    "meas.measure(q0, c0)\n",
    "meas.measure(q1, c1)\n",
    "\n",
    "qc = circ + meas\n",
    "\n",
    "qc.draw()"
   ]
  },
  {
   "cell_type": "code",
   "execution_count": 11,
   "metadata": {},
   "outputs": [
    {
     "data": {
      "text/html": [
       "<pre style=\"word-wrap: normal;white-space: pre;line-height: 15px;\">         ┌─┐              \n",
       "q0_0: |0>┤M├──────────────\n",
       "         └╥┘   ┌───┐┌─┐   \n",
       "q0_1: |0>─╫────┤ X ├┤M├───\n",
       "          ║    ├───┤└╥┘┌─┐\n",
       "q1_0: |0>─╫────┤ X ├─╫─┤M├\n",
       "          ║ ┌─┐└───┘ ║ └╥┘\n",
       "q1_1: |0>─╫─┤M├──────╫──╫─\n",
       "          ║ └╥┘      ║  ║ \n",
       " c0_0: 0 ═╩══╬═══════╬══╬═\n",
       "             ║       ║  ║ \n",
       " c0_1: 0 ════╬═══════╩══╬═\n",
       "             ║          ║ \n",
       " c1_0: 0 ════╬══════════╩═\n",
       "             ║            \n",
       " c1_1: 0 ════╩════════════\n",
       "                          </pre>"
      ],
      "text/plain": [
       "<qiskit.visualization.text.TextDrawing at 0x10d5d0710>"
      ]
     },
     "execution_count": 11,
     "metadata": {},
     "output_type": "execute_result"
    }
   ],
   "source": [
    "meas2 = QuantumCircuit()\n",
    "meas2.add_register(q0)\n",
    "meas2.add_register(q1)\n",
    "meas2.add_register(c0)\n",
    "meas2.add_register(c1)\n",
    "meas2.measure(q0, c0)\n",
    "meas2.measure(q1, c1)\n",
    "\n",
    "qc2 = circ2 + meas2\n",
    "\n",
    "qc2.draw()"
   ]
  },
  {
   "cell_type": "markdown",
   "metadata": {},
   "source": [
    "It even works when the circuits have different registers. Let's start by making two new circuits:"
   ]
  },
  {
   "cell_type": "code",
   "execution_count": 12,
   "metadata": {},
   "outputs": [
    {
     "data": {
      "text/html": [
       "<pre style=\"word-wrap: normal;white-space: pre;line-height: 15px;\">         ┌───┐\n",
       "q1_0: |0>┤ X ├\n",
       "         ├───┤\n",
       "q1_1: |0>┤ X ├\n",
       "         └───┘</pre>"
      ],
      "text/plain": [
       "<qiskit.visualization.text.TextDrawing at 0x12ef30f28>"
      ]
     },
     "execution_count": 12,
     "metadata": {},
     "output_type": "execute_result"
    }
   ],
   "source": [
    "circ4 = QuantumCircuit(q1)\n",
    "circ4.x(q1)\n",
    "circ4.draw()"
   ]
  },
  {
   "cell_type": "code",
   "execution_count": 13,
   "metadata": {},
   "outputs": [
    {
     "data": {
      "text/html": [
       "<pre style=\"word-wrap: normal;white-space: pre;line-height: 15px;\">         ┌───┐\n",
       "q3_0: |0>┤ H ├\n",
       "         ├───┤\n",
       "q3_1: |0>┤ H ├\n",
       "         └───┘</pre>"
      ],
      "text/plain": [
       "<qiskit.visualization.text.TextDrawing at 0x12ef137b8>"
      ]
     },
     "execution_count": 13,
     "metadata": {},
     "output_type": "execute_result"
    }
   ],
   "source": [
    "circ5 = QuantumCircuit(q3)\n",
    "circ5.h(q3)\n",
    "circ5.draw()"
   ]
  },
  {
   "cell_type": "markdown",
   "metadata": {},
   "source": [
    "The new register is added to the circuit:"
   ]
  },
  {
   "cell_type": "code",
   "execution_count": 14,
   "metadata": {},
   "outputs": [
    {
     "data": {
      "text/html": [
       "<pre style=\"word-wrap: normal;white-space: pre;line-height: 15px;\">         ┌───┐\n",
       "q1_0: |0>┤ X ├\n",
       "         ├───┤\n",
       "q1_1: |0>┤ X ├\n",
       "         ├───┤\n",
       "q3_0: |0>┤ H ├\n",
       "         ├───┤\n",
       "q3_1: |0>┤ H ├\n",
       "         └───┘</pre>"
      ],
      "text/plain": [
       "<qiskit.visualization.text.TextDrawing at 0x12ef131d0>"
      ]
     },
     "execution_count": 14,
     "metadata": {},
     "output_type": "execute_result"
    }
   ],
   "source": [
    "(circ4+circ5).draw()"
   ]
  },
  {
   "cell_type": "markdown",
   "metadata": {},
   "source": [
    "We have also overloaded `+=` to the `QuantumCircuit` object:"
   ]
  },
  {
   "cell_type": "code",
   "execution_count": 15,
   "metadata": {},
   "outputs": [
    {
     "data": {
      "text/html": [
       "<pre style=\"word-wrap: normal;white-space: pre;line-height: 15px;\">         ┌───┐\n",
       "q1_0: |0>┤ X ├\n",
       "         ├───┤\n",
       "q1_1: |0>┤ X ├\n",
       "         ├───┤\n",
       "q3_0: |0>┤ H ├\n",
       "         ├───┤\n",
       "q3_1: |0>┤ H ├\n",
       "         └───┘</pre>"
      ],
      "text/plain": [
       "<qiskit.visualization.text.TextDrawing at 0x12ef13e80>"
      ]
     },
     "execution_count": 15,
     "metadata": {},
     "output_type": "execute_result"
    }
   ],
   "source": [
    "circ4 += circ5\n",
    "circ4.draw()"
   ]
  },
  {
   "cell_type": "markdown",
   "metadata": {},
   "source": [
    "## Outcomes of Quantum Circuits\n",
    "\n",
    "In the circuit output, the most significant bit (MSB) is to the left, and the least significant bit (LSB) is to the right (i.e., we follow little-endian ordering from computer science). In this example:"
   ]
  },
  {
   "cell_type": "code",
   "execution_count": 16,
   "metadata": {},
   "outputs": [
    {
     "data": {
      "text/html": [
       "<pre style=\"word-wrap: normal;white-space: pre;line-height: 15px;\">              \n",
       "q0_0: |0>─────\n",
       "         ┌───┐\n",
       "q0_1: |0>┤ X ├\n",
       "         ├───┤\n",
       "q1_0: |0>┤ X ├\n",
       "         └───┘\n",
       "q1_1: |0>─────\n",
       "              </pre>"
      ],
      "text/plain": [
       "<qiskit.visualization.text.TextDrawing at 0x12e05d898>"
      ]
     },
     "execution_count": 16,
     "metadata": {},
     "output_type": "execute_result"
    }
   ],
   "source": [
    "circ.draw()"
   ]
  },
  {
   "cell_type": "markdown",
   "metadata": {},
   "source": [
    "qubit register $Q_0$ is prepared in the state $|10\\rangle$ and $Q_1$ is in the state $|01\\rangle$, giving a total state $|0110\\rangle$ ($Q1\\otimes Q0$). \n",
    "\n",
    "<div class=\"alert alert-block alert-info\">\n",
    "<b>Note:</b> The tensor order in Qiskit goes as $Q_n \\otimes .. Q_1 \\otimes Q_0$\n",
    "</div>\n",
    "\n",
    "That is the four-qubit statevector of length 16, with the sixth element (`int('0110',2)=6`) being one. Note the element count starts from zero."
   ]
  },
  {
   "cell_type": "code",
   "execution_count": 17,
   "metadata": {},
   "outputs": [
    {
     "name": "stdout",
     "output_type": "stream",
     "text": [
      "[0.+0.j 0.+0.j 0.+0.j 0.+0.j 0.+0.j 0.+0.j 1.+0.j 0.+0.j 0.+0.j 0.+0.j\n",
      " 0.+0.j 0.+0.j 0.+0.j 0.+0.j 0.+0.j 0.+0.j]\n"
     ]
    }
   ],
   "source": [
    "backend_sim = BasicAer.get_backend('statevector_simulator')\n",
    "result = execute(circ, backend_sim).result()\n",
    "state = result.get_statevector(circ)\n",
    "print(state)"
   ]
  },
  {
   "cell_type": "markdown",
   "metadata": {},
   "source": [
    "We can also use Qiskit Terra to make the unitary operator representing the circuit (provided there are no measurements). This will be a $16\\otimes16$ matrix equal to $I\\otimes X\\otimes X\\otimes I$."
   ]
  },
  {
   "cell_type": "code",
   "execution_count": 19,
   "metadata": {},
   "outputs": [
    {
     "data": {
      "text/plain": [
       "(1+0j)"
      ]
     },
     "execution_count": 19,
     "metadata": {},
     "output_type": "execute_result"
    }
   ],
   "source": [
    "backend_sim = BasicAer.get_backend('unitary_simulator')\n",
    "result = execute(circ, backend_sim).result()\n",
    "unitary = result.get_unitary(circ)\n",
    "print(unitary)"
   ]
  },
  {
   "cell_type": "markdown",
   "metadata": {},
   "source": [
    "To map the information of the quantum state to the classial world, we use the example with measurements `qc`:"
   ]
  },
  {
   "cell_type": "code",
   "execution_count": 20,
   "metadata": {},
   "outputs": [
    {
     "data": {
      "text/html": [
       "<pre style=\"word-wrap: normal;white-space: pre;line-height: 15px;\">         ┌─┐              \n",
       "q0_0: |0>┤M├──────────────\n",
       "         └╥┘   ┌───┐┌─┐   \n",
       "q0_1: |0>─╫────┤ X ├┤M├───\n",
       "          ║    ├───┤└╥┘┌─┐\n",
       "q1_0: |0>─╫────┤ X ├─╫─┤M├\n",
       "          ║ ┌─┐└───┘ ║ └╥┘\n",
       "q1_1: |0>─╫─┤M├──────╫──╫─\n",
       "          ║ └╥┘      ║  ║ \n",
       " c0_0: 0 ═╩══╬═══════╬══╬═\n",
       "             ║       ║  ║ \n",
       " c0_1: 0 ════╬═══════╩══╬═\n",
       "             ║          ║ \n",
       " c1_0: 0 ════╬══════════╩═\n",
       "             ║            \n",
       " c1_1: 0 ════╩════════════\n",
       "                          </pre>"
      ],
      "text/plain": [
       "<qiskit.visualization.text.TextDrawing at 0x12e7e1978>"
      ]
     },
     "execution_count": 20,
     "metadata": {},
     "output_type": "execute_result"
    }
   ],
   "source": [
    "qc.draw()"
   ]
  },
  {
   "cell_type": "markdown",
   "metadata": {},
   "source": [
    "This will map the quantum state to the classical world. Since the state has no superpositions, it will be deterministic and equal to `'01 10'`.  Here a space is used to separate the registers."
   ]
  },
  {
   "cell_type": "code",
   "execution_count": 21,
   "metadata": {},
   "outputs": [
    {
     "name": "stdout",
     "output_type": "stream",
     "text": [
      "{'01 10': 1024}\n"
     ]
    }
   ],
   "source": [
    "backend_sim = BasicAer.get_backend('qasm_simulator')\n",
    "result = execute(qc, backend_sim).result()\n",
    "counts = result.get_counts(qc)\n",
    "print(counts)"
   ]
  },
  {
   "cell_type": "markdown",
   "metadata": {},
   "source": [
    "To show that it does not matter how you add the registers, we run the same as above on the second example circuit:"
   ]
  },
  {
   "cell_type": "code",
   "execution_count": 22,
   "metadata": {
    "solution": "hidden"
   },
   "outputs": [],
   "source": [
    "backend_sim = BasicAer.get_backend('statevector_simulator')\n",
    "result = execute(circ2, backend_sim).result()\n",
    "states = result.get_statevector(circ2)\n",
    "\n",
    "backend_sim = BasicAer.get_backend('qasm_simulator')\n",
    "result = execute(qc2, backend_sim, shots=1024).result()\n",
    "counts = result.get_counts(qc2)\n",
    "\n",
    "backend_sim = BasicAer.get_backend('unitary_simulator')\n",
    "result = execute(circ2, backend_sim, shots=1024).result()\n",
    "unitary = result.get_unitary(circ2)"
   ]
  },
  {
   "cell_type": "code",
   "execution_count": 23,
   "metadata": {},
   "outputs": [
    {
     "name": "stdout",
     "output_type": "stream",
     "text": [
      "{'01 10': 1024}\n"
     ]
    }
   ],
   "source": [
    "print(counts)"
   ]
  },
  {
   "cell_type": "markdown",
   "metadata": {},
   "source": [
    "## Aer vs BasicAer"
   ]
  },
  {
   "cell_type": "markdown",
   "metadata": {},
   "source": [
    "`BasicAer` and `Aer` are simulator `Provider`s in the sameway that `IBMQ` is a provider for our physical devices. `Aer` is a high-performance C++ provider, whereas `BasicAer` is implemented in Python"
   ]
  },
  {
   "cell_type": "markdown",
   "metadata": {
    "solution": "hidden",
    "solution_first": true
   },
   "source": [
    "<span class=\"badge badge-primary\">Exercise 1.1</span> Try comparing the results of a random quantum circuit with ~1000 gates executed with both `Aer` and `BasicAer` for 14 qubits. The rough steps to this are\n",
    "\n",
    "1. Import the required simulators from `BasicAer` and `Aer`.\n",
    "2. Create your `QuantumRegister`, `ClassicalRegister` and `QuantumCircuit`\n",
    "3. Add 1000 gates at random\n",
    "4. Submit the job and ask for the result. We encourage you to time the results.\n",
    "5. Get the counts from the results and compare them."
   ]
  },
  {
   "cell_type": "markdown",
   "metadata": {},
   "source": [
    "## Running on a real quantum computer\n",
    "\n",
    "Before we start running on a real device we have to cover some of the preliminaries. At IBM Q we access our quantum computers through the cloud. This allows our experimentalist to sit in their cozy offices and run experiments on cutting edge hardware through their keyboard. It also means they have may have to share the device with other users. There are therefore a couple steps to running a job that we glossed over above."
   ]
  },
  {
   "cell_type": "markdown",
   "metadata": {},
   "source": [
    "First it calls `transpile` which will optimize your circuit for the device and return this new optimized but logically equivalent circuit"
   ]
  },
  {
   "cell_type": "markdown",
   "metadata": {
    "solution": "hidden"
   },
   "source": [
    "transpiled_circ = transpile(circ, melbourne_backend)"
   ]
  },
  {
   "cell_type": "markdown",
   "metadata": {},
   "source": [
    "Next it assembles the circuit into a Qobj, which will be sent over the internet to the device"
   ]
  },
  {
   "cell_type": "code",
   "execution_count": null,
   "metadata": {},
   "outputs": [],
   "source": [
    "qobj = assemble(transpiled_circ, melbourne_backend)"
   ]
  },
  {
   "cell_type": "markdown",
   "metadata": {},
   "source": [
    "The qobj is a universal format, so it can be sent to any device that has the required properties. In this case we will send it to the simulator so as not to waste valuable device time. The backend returns a `Job` object."
   ]
  },
  {
   "cell_type": "code",
   "execution_count": null,
   "metadata": {
    "solution": "hidden"
   },
   "outputs": [],
   "source": [
    "job = backend_sim.run(qobj)"
   ]
  },
  {
   "cell_type": "markdown",
   "metadata": {},
   "source": [
    "The job has a unique `job_id` which the API keeps track of"
   ]
  },
  {
   "cell_type": "code",
   "execution_count": 70,
   "metadata": {
    "collapsed": true,
    "solution": "hidden"
   },
   "outputs": [
    {
     "name": "stdout",
     "output_type": "stream",
     "text": [
      "Basic Aer\n",
      "CPU times: user 1.34 s, sys: 22.8 ms, total: 1.36 s\n",
      "Wall time: 1.39 s\n",
      "Aer\n",
      "CPU times: user 553 ms, sys: 28.8 ms, total: 582 ms\n",
      "Wall time: 511 ms\n",
      "{'11000001000001': 1024}\n",
      "{'11000001000001': 1024}\n"
     ]
    }
   ],
   "source": [
    "basicaer_backend_sim = BasicAer.get_backend('qasm_simulator')\n",
    "aer_backend_sim = Aer.get_backend('qasm_simulator')\n",
    "\n",
    "n_qubits = 14\n",
    "n_gates = 1000\n",
    "\n",
    "qr = QuantumRegister(n_qubits)\n",
    "cr = ClassicalRegister(n_qubits)\n",
    "qc_benchmark = QuantumCircuit(qr, cr)\n",
    "\n",
    "for i in range(n_gates):\n",
    "    random_qubit = np.random.randint(0, n_qubits)\n",
    "    qc_benchmark.x(qr[random_qubit])\n",
    "\n",
    "qc_benchmark.measure(qr, cr)\n",
    "\n",
    "print('Basic Aer')\n",
    "%time basic_aer_counts = execute(qc_benchmark, basicaer_backend_sim).result().get_counts(qc_benchmark)\n",
    "\n",
    "print('Aer')\n",
    "%time aer_counts = execute(qc_benchmark, aer_backend_sim).result().get_counts(qc_benchmark)\n",
    "\n",
    "print(basic_aer_counts)\n",
    "print(aer_counts)"
   ]
  },
  {
   "cell_type": "code",
   "execution_count": null,
   "metadata": {},
   "outputs": [],
   "source": [
    "job.job_id()"
   ]
  },
  {
   "cell_type": "markdown",
   "metadata": {},
   "source": [
    "We can also track the status of the job"
   ]
  },
  {
   "cell_type": "code",
   "execution_count": null,
   "metadata": {},
   "outputs": [],
   "source": [
    "job.status()"
   ]
  },
  {
   "cell_type": "markdown",
   "metadata": {},
   "source": [
    "And finally we can ask for the job result which will block until completion"
   ]
  },
  {
   "cell_type": "code",
   "execution_count": null,
   "metadata": {
    "solution": "hidden"
   },
   "outputs": [],
   "source": [
    "result = job.result()"
   ]
  },
  {
   "cell_type": "markdown",
   "metadata": {
    "solution": "hidden"
   },
   "source": [
    "## Real device results"
   ]
  },
  {
   "cell_type": "markdown",
   "metadata": {
    "solution": "hidden",
    "solution_first": true
   },
   "source": [
    "<span class=\"badge badge-primary\">Exercise 1.2</span> Now take the same circuit and run it on the real device, `ibmq_16_melbourne`. And also create a circuit with only 20 gates and four qubits and run this as well. \n",
    "\n",
    "Remember to load your credentials with the `IBMQ` provider and to grab a handle to the backend `ibmq_16_melbourne`. Using `IBMQ.get_backend`.\n",
    "\n",
    "<div class=\"alert alert-block alert-info\">\n",
    "<b>Note:</b> You can run both circuits at once by providing them as a list to 'execute', ie., 'execute([qc1, qc2], backend, ...)'.\n",
    "</div>\n",
    "\n",
    "<div class=\"alert alert-block alert-info\">\n",
    "<b>Note:</b> This may take a while if everyone sends their jobs at once.\n",
    "</div>"
   ]
  },
  {
   "cell_type": "code",
   "execution_count": 77,
   "metadata": {
    "solution": "hidden"
   },
   "outputs": [
    {
     "name": "stdout",
     "output_type": "stream",
     "text": [
      "Simulation\n",
      "CPU times: user 59.5 ms, sys: 45.4 ms, total: 105 ms\n",
      "Wall time: 215 ms\n",
      "Melbourne\n",
      "CPU times: user 1.45 s, sys: 132 ms, total: 1.58 s\n",
      "Wall time: 5min 23s\n"
     ]
    }
   ],
   "source": [
    "IBMQ.load_accounts()\n",
    "melbourne_backend = IBMQ.get_backend('ibmq_16_melbourne')\n",
    "\n",
    "n_qubits = 4\n",
    "n_gates = 20\n",
    "\n",
    "qr = QuantumRegister(4)\n",
    "cr = ClassicalRegister(4)\n",
    "qc_benchmark_20 = QuantumCircuit(qr, cr)\n",
    "\n",
    "for i in range(n_gates):\n",
    "    random_qubit = np.random.randint(0, n_qubits)\n",
    "    qc_benchmark_20.x(qr[random_qubit])\n",
    "\n",
    "qc_benchmark_20.measure(qr, cr)\n",
    "\n",
    "\n",
    "print('Simulation')\n",
    "%time sim_counts = execute([qc_benchmark, qc_benchmark_20], basicaer_backend_sim).result()\n",
    "print('Melbourne')\n",
    "%time melbourne_counts = execute([qc_benchmark, qc_benchmark_20], melbourne_backend).result()\n",
    "\n",
    "sim_counts_1000 = sim_counts.get_counts(qc_benchmark)\n",
    "sim_counts_20 = sim_counts.get_counts(qc_benchmark_20)\n",
    "\n",
    "melbourne_counts_1000 = melbourne_counts.get_counts(qc_benchmark)\n",
    "melbourne_counts_20 = melbourne_counts.get_counts(qc_benchmark_20)"
   ]
  },
  {
   "cell_type": "markdown",
   "metadata": {
    "solution": "hidden",
    "solution_first": true
   },
   "source": [
    "<span class=\"badge badge-primary\">Exercise 1.3</span> Compare the physical device results to the ideal simulation. You can use the `plot_histogram` method to better visualize the results. What about for the experiment with only four qubits and twenty gates?\n",
    "\n",
    "<div class=\"alert alert-block alert-info\">\n",
    "<b>Note:</b> Use 'help' to get more information on how to use 'plot_histogram'. Try playing with the 'number_to_keep' option.\n",
    "</div>\n",
    "\n",
    "- What do you see? \n",
    "- Why do you think the results differ? \n",
    "- Why do we even bother trying to build a quantum computer if the results are so bad?\n",
    "- Are some gates worse than others?"
   ]
  },
  {
   "cell_type": "code",
   "execution_count": 78,
   "metadata": {
    "solution": "hidden"
   },
   "outputs": [
    {
     "data": {
      "image/png": "[encoded data removed]",
      "text/plain": [
       "<Figure size 504x360 with 1 Axes>"
      ]
     },
     "execution_count": 78,
     "metadata": {},
     "output_type": "execute_result"
    }
   ],
   "source": [
    "plot_histogram([sim_counts_1000, melbourne_counts_1000])"
   ]
  },
  {
   "cell_type": "code",
   "execution_count": 79,
   "metadata": {
    "solution": "hidden"
   },
   "outputs": [
    {
     "data": {
      "image/png": "[encoded data removed]",
      "text/plain": [
       "<Figure size 504x360 with 1 Axes>"
      ]
     },
     "execution_count": 79,
     "metadata": {},
     "output_type": "execute_result"
    }
   ],
   "source": [
    "plot_histogram([sim_counts_20, melbourne_counts_20])"
   ]
  },
  {
   "cell_type": "markdown",
   "metadata": {
    "solution": "hidden"
   },
   "source": [
    "## Take away point\n",
    "\n",
    "State of the art quantum computers are very imperfect. They are noisy, have limited numbers of qubits and imperfect gates. We are still in the infancy of quantum computing.\n",
    "\n",
    "Don't despair! This means that there is still lots of room for your to make research and engineering breakthroughs!"
   ]
  }
 ],
 "metadata": {
  "kernelspec": {
   "display_name": "Python 3",
   "language": "python",
   "name": "python3"
  },
  "language_info": {
   "codemirror_mode": {
    "name": "ipython",
    "version": 3
   },
   "file_extension": ".py",
   "mimetype": "text/x-python",
   "name": "python",
   "nbconvert_exporter": "python",
   "pygments_lexer": "ipython3",
   "version": "3.7.3"
  }
 },
 "nbformat": 4,
 "nbformat_minor": 2
}
