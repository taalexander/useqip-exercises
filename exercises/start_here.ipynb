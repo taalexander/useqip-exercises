{
 "cells": [
  {
   "cell_type": "markdown",
   "metadata": {},
   "source": [
    "<img src=\"../../images/qiskit-heading.gif\" alt=\"Note: In order for images to show up in this jupyter notebook you need to select File => Trusted Notebook\" width=\"500 px\" align=\"left\">"
   ]
  },
  {
   "cell_type": "markdown",
   "metadata": {},
   "source": [
    "This folder contains a set of introduction exercises to Qiskit, using the client device `ibmq_16_melbourne`. Check out the readme first to get Qiskit installed.\n",
    "\n",
    "Throughout the notebook <span class=\"badge badge-primary\">Exercise</span> tags will be used to note exercises that should be completed.\n",
    "\n",
    "Since USEQIP is an experimental camp, we will focus on many of the experimental details in running a quantum computer."
   ]
  },
  {
   "cell_type": "markdown",
   "metadata": {},
   "source": [
    "## Index"
   ]
  },
  {
   "cell_type": "markdown",
   "metadata": {},
   "source": [
    "0. [Setting up the IBMQ provider](0_setting_up_the_IBMQ_provider.ipynb)\n",
    "1. [Building and Running Quantum Circuits](1_building_and_running_quantum_circuits.ipynb)"
   ]
  },
  {
   "cell_type": "markdown",
   "metadata": {},
   "source": [
    "## Contributors\n",
    "Thomas Alexander, Sarah Sheldon, Anna Phan, Jay Gambetta, Takashi Imamichi, Antonio Córcoles, Andrew Cross"
   ]
  }
 ],
 "metadata": {
  "kernelspec": {
   "display_name": "Python 3",
   "language": "python",
   "name": "python3"
  },
  "language_info": {
   "codemirror_mode": {
    "name": "ipython",
    "version": 3
   },
   "file_extension": ".py",
   "mimetype": "text/x-python",
   "name": "python",
   "nbconvert_exporter": "python",
   "pygments_lexer": "ipython3",
   "version": "3.7.3"
  }
 },
 "nbformat": 4,
 "nbformat_minor": 2
}
